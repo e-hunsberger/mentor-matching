{
 "cells": [
  {
   "cell_type": "code",
   "execution_count": 3,
   "metadata": {},
   "outputs": [],
   "source": [
    "import pandas as pd\n",
    "import os\n",
    "import numpy as np\n",
    "base_dir = os.path.dirname(os.path.abspath(''))\n"
   ]
  },
  {
   "cell_type": "markdown",
   "metadata": {},
   "source": [
    "# Preprocess legacy files"
   ]
  },
  {
   "cell_type": "code",
   "execution_count": 4,
   "metadata": {},
   "outputs": [],
   "source": [
    "#load historic matches file in old format\n",
    "historic_matches = pd.read_csv(os.path.join(base_dir,'data','historic_matches.csv'))\n"
   ]
  },
  {
   "cell_type": "code",
   "execution_count": 14,
   "metadata": {},
   "outputs": [],
   "source": [
    "#convert the historic matches to a file where there are columns: mentee_name, mentor_name, date, within_region, match_type\n",
    "matches = pd.DataFrame()\n",
    "#convert from wide to condensed\n",
    "#first get the date list (the unique values before the underscore, not including the mentee name column)\n",
    "date_list = np.unique([col.split('_')[0] for col in historic_matches.columns])\n",
    "date_list = date_list[date_list != 'Mentee']\n",
    "for i,col in enumerate(date_list): #don't include the first column because that is the mentee name\n",
    "    date = col\n",
    "    df = historic_matches[['Mentee_Name',date + '_mentorName',date + '_withinRegion']].copy()\n",
    "    df['round'] = i+1\n",
    "    df['date'] = date\n",
    "    #rename columns\n",
    "    df.rename(columns={'Mentee_Name':'mentee_name',date+'_mentorName':'mentor_name',date+'_withinRegion':'within_region'},inplace=True)\n",
    "\n",
    "    #combinte each sub df into the main matches df\n",
    "    matches = pd.concat([matches,df])\n",
    "\n",
    "#drop nas in mentor_name because that means there was no match\n",
    "matches = matches.dropna(subset='mentor_name')\n",
    "\n",
    "#fix a data quality error where sometimes the email is listed after the name eg first last(first.last@email.com)\n",
    "matches.mentee_name = matches.mentee_name.apply(lambda x: x.split('(')[0])\n",
    "matches.mentor_name = matches.mentor_name.apply(lambda x: x.split('(')[0])\n",
    "matches['pairs'] = matches.mentor_name + ' - ' + matches.mentee_name\n"
   ]
  },
  {
   "cell_type": "code",
   "execution_count": 15,
   "metadata": {},
   "outputs": [],
   "source": [
    "email_list = pd.read_csv(os.path.join(base_dir,'data','email_list.csv')) \n",
    "email_list['full_name'] = email_list['First Name'] + ' ' + email_list['Last Name']\n",
    "email_list['LAST_CHANGED'] = pd.to_datetime(email_list.LAST_CHANGED, format='%m/%d/%Y %H:%M')\n",
    "email_list = email_list.sort_values(by='LAST_CHANGED',ascending=False)\n",
    "#drop duplicates of the same full name by sorting by the last date they changed their info and taking the first entry\n",
    "email_list['LAST_CHANGED']\n",
    "email_list = email_list.drop_duplicates(subset='full_name', keep='first')\n",
    "\n",
    "#load email list to get info about what type of match it was \n",
    "mentees = email_list[email_list['Do you want to join Coffee Catchup as a Mentee?'] == 'Yes'].copy()\n",
    "mentee_name_list = mentees.full_name.unique()\n",
    "mentors = email_list[email_list['Do you want to join Coffee Catchup as a Mentor?'] == 'Yes'].copy()\n",
    "mentor_name_list = mentors.full_name.unique()\n",
    "matches['mentee_type'] = matches.apply(lambda x: 'mentee' if x.mentee_name in mentee_name_list else 'mentor' if x.mentee_name in mentor_name_list else 'error',axis=1)\n",
    "matches['mentor_type'] = matches.apply(lambda x: 'mentee' if x.mentor_name in mentee_name_list else 'mentor' if x.mentor_name in mentor_name_list else 'error',axis=1)\n",
    "matches['type'] = matches['mentor_type'] + '-' + matches['mentee_type'] "
   ]
  },
  {
   "cell_type": "code",
   "execution_count": 21,
   "metadata": {},
   "outputs": [],
   "source": [
    "#save historic matches to csv with new format\n",
    "matches[['mentee_name','mentor_name','within_region','round','date','pairs','mentee_type','type']].to_csv(os.path.join(base_dir,'data','historic_matches_v2.csv'),index=False)\n"
   ]
  },
  {
   "cell_type": "code",
   "execution_count": null,
   "metadata": {},
   "outputs": [
    {
     "ename": "AttributeError",
     "evalue": "'DataFrame' object has no attribute 'region'",
     "output_type": "error",
     "traceback": [
      "\u001b[1;31m---------------------------------------------------------------------------\u001b[0m",
      "\u001b[1;31mAttributeError\u001b[0m                            Traceback (most recent call last)",
      "\u001b[1;32m~\\AppData\\Local\\Temp\\ipykernel_31056\\4103019010.py\u001b[0m in \u001b[0;36m?\u001b[1;34m()\u001b[0m\n\u001b[1;32m----> 1\u001b[1;33m \u001b[0memail_list\u001b[0m\u001b[1;33m.\u001b[0m\u001b[0mregion\u001b[0m\u001b[1;33m.\u001b[0m\u001b[0munique\u001b[0m\u001b[1;33m(\u001b[0m\u001b[1;33m)\u001b[0m\u001b[1;33m\u001b[0m\u001b[1;33m\u001b[0m\u001b[0m\n\u001b[0m",
      "\u001b[1;32mc:\\Users\\ehuns\\miniconda3\\envs\\mentor-matching\\lib\\site-packages\\pandas\\core\\generic.py\u001b[0m in \u001b[0;36m?\u001b[1;34m(self, name)\u001b[0m\n\u001b[0;32m   6292\u001b[0m             \u001b[1;32mand\u001b[0m \u001b[0mname\u001b[0m \u001b[1;32mnot\u001b[0m \u001b[1;32min\u001b[0m \u001b[0mself\u001b[0m\u001b[1;33m.\u001b[0m\u001b[0m_accessors\u001b[0m\u001b[1;33m\u001b[0m\u001b[1;33m\u001b[0m\u001b[0m\n\u001b[0;32m   6293\u001b[0m             \u001b[1;32mand\u001b[0m \u001b[0mself\u001b[0m\u001b[1;33m.\u001b[0m\u001b[0m_info_axis\u001b[0m\u001b[1;33m.\u001b[0m\u001b[0m_can_hold_identifiers_and_holds_name\u001b[0m\u001b[1;33m(\u001b[0m\u001b[0mname\u001b[0m\u001b[1;33m)\u001b[0m\u001b[1;33m\u001b[0m\u001b[1;33m\u001b[0m\u001b[0m\n\u001b[0;32m   6294\u001b[0m         ):\n\u001b[0;32m   6295\u001b[0m             \u001b[1;32mreturn\u001b[0m \u001b[0mself\u001b[0m\u001b[1;33m[\u001b[0m\u001b[0mname\u001b[0m\u001b[1;33m]\u001b[0m\u001b[1;33m\u001b[0m\u001b[1;33m\u001b[0m\u001b[0m\n\u001b[1;32m-> 6296\u001b[1;33m         \u001b[1;32mreturn\u001b[0m \u001b[0mobject\u001b[0m\u001b[1;33m.\u001b[0m\u001b[0m__getattribute__\u001b[0m\u001b[1;33m(\u001b[0m\u001b[0mself\u001b[0m\u001b[1;33m,\u001b[0m \u001b[0mname\u001b[0m\u001b[1;33m)\u001b[0m\u001b[1;33m\u001b[0m\u001b[1;33m\u001b[0m\u001b[0m\n\u001b[0m",
      "\u001b[1;31mAttributeError\u001b[0m: 'DataFrame' object has no attribute 'region'"
     ]
    }
   ],
   "source": []
  },
  {
   "cell_type": "code",
   "execution_count": null,
   "metadata": {},
   "outputs": [],
   "source": []
  }
 ],
 "metadata": {
  "kernelspec": {
   "display_name": "mentor-matching",
   "language": "python",
   "name": "python3"
  },
  "language_info": {
   "codemirror_mode": {
    "name": "ipython",
    "version": 3
   },
   "file_extension": ".py",
   "mimetype": "text/x-python",
   "name": "python",
   "nbconvert_exporter": "python",
   "pygments_lexer": "ipython3",
   "version": "3.9.20"
  }
 },
 "nbformat": 4,
 "nbformat_minor": 2
}
