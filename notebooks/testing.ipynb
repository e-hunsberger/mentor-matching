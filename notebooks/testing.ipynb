{
 "cells": [
  {
   "cell_type": "code",
   "execution_count": null,
   "metadata": {},
   "outputs": [],
   "source": []
  },
  {
   "cell_type": "markdown",
   "metadata": {},
   "source": [
    "# Mentor matching"
   ]
  },
  {
   "cell_type": "markdown",
   "metadata": {},
   "source": []
  },
  {
   "cell_type": "code",
   "execution_count": null,
   "metadata": {},
   "outputs": [],
   "source": [
    "import random\n",
    "\n",
    "def create_unique_pairs(mentors, mentees, previous_pairs=set()):\n",
    "    \"\"\"\n",
    "    Matches mentors and mentees without creating duplicate pairs.\n",
    "\n",
    "    Parameters:\n",
    "    - mentors (list): List of mentors.\n",
    "    - mentees (list): List of mentees.\n",
    "    - previous_pairs (set): Set of tuples containing previous mentor-mentee pairs to avoid duplicates.\n",
    "\n",
    "    Returns:\n",
    "    - new_pairs (list): List of new unique mentor-mentee pairs.\n",
    "    \"\"\"\n",
    "    # Shuffle the lists to create randomness\n",
    "    random.shuffle(mentors)\n",
    "    random.shuffle(mentees)\n",
    "\n",
    "    new_pairs = []\n",
    "    used_mentees = set()  # Keep track of mentees who have been paired\n",
    "\n",
    "    # Match mentors to mentees\n",
    "    for mentor in mentors:\n",
    "        for mentee in mentees:\n",
    "            # Check if the pair is unique and if the mentee hasn't been used\n",
    "            if (mentor, mentee) not in previous_pairs and mentee not in used_mentees:\n",
    "                new_pairs.append((mentor, mentee))\n",
    "                used_mentees.add(mentee)\n",
    "                break  # Move to the next mentor once a mentee is assigned\n",
    "\n",
    "    return new_pairs\n",
    "\n",
    "# Example usage\n",
    "mentors = [\"Mentor A\", \"Mentor B\", \"Mentor C\", \"Mentor D\"]\n",
    "mentees = [\"Mentee 1\", \"Mentee 2\", \"Mentee 3\", \"Mentee 4\"]\n",
    "\n",
    "# Load or define previous pairs to avoid duplicates\n",
    "previous_pairs = {(\"Mentor A\", \"Mentee 1\"), (\"Mentor B\", \"Mentee 2\")}\n",
    "\n",
    "new_pairs = create_unique_pairs(mentors, mentees, previous_pairs)\n",
    "\n",
    "# Output the new pairs\n",
    "print(\"New mentor-mentee pairs:\")\n",
    "for mentor, mentee in new_pairs:\n",
    "    print(f\"{mentor} - {mentee}\")\n",
    "\n",
    "# Save new pairs to previous pairs (if desired)\n",
    "previous_pairs.update(new_pairs)\n"
   ]
  },
  {
   "cell_type": "code",
   "execution_count": null,
   "metadata": {},
   "outputs": [],
   "source": []
  }
 ],
 "metadata": {
  "language_info": {
   "name": "python"
  }
 },
 "nbformat": 4,
 "nbformat_minor": 2
}
